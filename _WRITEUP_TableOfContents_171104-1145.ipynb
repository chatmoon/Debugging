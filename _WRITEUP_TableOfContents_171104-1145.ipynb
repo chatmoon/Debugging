{
 "cells": [
  {
   "cell_type": "markdown",
   "metadata": {},
   "source": [
    "# WRITEUP | Table of contents"
   ]
  },
  {
   "cell_type": "markdown",
   "metadata": {},
   "source": [
    "### Step 1: Data Set Summary & Exploration\n",
    "> #### 1.1. Load and summarize the data set\n",
    "#### 1.2. An exploratory visualization of the dataset\n",
    ">> ##### 1.2.1. Explore the data set\n",
    "##### 1.2.2. Visualize the data set\n",
    "\n",
    "### Step 2: Design and Test a Model Architecture\n",
    "> #### 2.1. Preprocess the data set and generate additional data\n",
    ">> ##### 2.1.1. Preprocess the data set\n",
    "##### 2.1.2. Generate additional data   \n",
    "\n",
    "> #### 2.2. Model Architecture\n",
    ">> ##### 2.2.1. The final model architecture\n",
    "##### 2.2.2. How the model has been trained\n",
    "##### 2.2.3. The approach taken for finding a solution\n",
    ">>> ###### 2.2.3.0. Description of the general approach\n",
    "###### 2.2.3.1. Initial benchmark values with the Lenet5 architecture\n",
    "###### 2.2.3.2. Tuning of the Lenet5 architecture\n",
    "###### 2.2.3.3. Other architectures\n",
    "###### 2.2.3.4. In conclusion\n",
    "\n",
    "### Step 3: Test a Model on New Images\n",
    "> #### 3.1. Load and Output the Images\n",
    "#### 3.2. The model's predictions on these new traffic signs\n",
    "#### 3.3. The top 5 softmax probabilities and certainty of the model's prediction  \n"
   ]
  }
 ],
 "metadata": {
  "anaconda-cloud": {},
  "kernelspec": {
   "display_name": "Python [default]",
   "language": "python",
   "name": "python3"
  },
  "language_info": {
   "codemirror_mode": {
    "name": "ipython",
    "version": 3
   },
   "file_extension": ".py",
   "mimetype": "text/x-python",
   "name": "python",
   "nbconvert_exporter": "python",
   "pygments_lexer": "ipython3",
   "version": "3.5.2"
  }
 },
 "nbformat": 4,
 "nbformat_minor": 1
}
